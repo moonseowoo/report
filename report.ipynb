{
  "nbformat": 4,
  "nbformat_minor": 0,
  "metadata": {
    "colab": {
      "name": "report",
      "provenance": [],
      "collapsed_sections": [],
      "authorship_tag": "ABX9TyObCwKc3zQVcFR8fGJJcybV",
      "include_colab_link": true
    },
    "kernelspec": {
      "name": "python3",
      "display_name": "Python 3"
    },
    "language_info": {
      "name": "python"
    }
  },
  "cells": [
    {
      "cell_type": "markdown",
      "metadata": {
        "id": "view-in-github",
        "colab_type": "text"
      },
      "source": [
        "<a href=\"https://colab.research.google.com/github/moonseowoo/report/blob/main/report.ipynb\" target=\"_parent\"><img src=\"https://colab.research.google.com/assets/colab-badge.svg\" alt=\"Open In Colab\"/></a>"
      ]
    },
    {
      "cell_type": "code",
      "source": [
        "print(\"3개의 정수값을 입력하시오\")\n",
        "n1 = int(input(\"n1의 정수값을 입력: \"))\n",
        "n2 = int(input(\"n1의 정수값을 입력: \"))\n",
        "n3 = int(input(\"n1의 정수값을 입력: \"))\n",
        "\n",
        "total = n1 + n2 + n3;\n",
        "average = total /3 ;\n",
        "print(average)"
      ],
      "metadata": {
        "colab": {
          "base_uri": "https://localhost:8080/"
        },
        "id": "4Kwk2E3Kc3Ww",
        "outputId": "f044cff2-c9d5-4cdd-f86f-546c6c7df072"
      },
      "execution_count": null,
      "outputs": [
        {
          "output_type": "stream",
          "name": "stdout",
          "text": [
            "3개의 정수값을 입력하시오\n",
            "n1의 정수값을 입력: 1\n",
            "n1의 정수값을 입력: 2\n",
            "n1의 정수값을 입력: 3\n",
            "2.0\n"
          ]
        }
      ]
    },
    {
      "cell_type": "code",
      "source": [
        "import math\n",
        "#from math import sqrt\n",
        "\n",
        "print(\"'a, b, c' 3개의 값을 입력하시오\")\n",
        "a = int(input(\"Enter the a: \"))\n",
        "b = int(input(\"Enter the b: \"))\n",
        "c = int(input(\"Enter the c: \"))\n",
        "\n",
        "d = math.sqrt(b*b) - (4*a*c);\n",
        "#d = sqrt(b*b) - (4*a*c);\n",
        "x1 = (-b+d) / (2 * a);\n",
        "x2 = (-b-d) / (2 * a);\n",
        "print(x1, x2)"
      ],
      "metadata": {
        "colab": {
          "base_uri": "https://localhost:8080/"
        },
        "id": "5RVG1MZQwQyM",
        "outputId": "16cf1a2d-f933-482c-c824-c31a7039c5e6"
      },
      "execution_count": null,
      "outputs": [
        {
          "output_type": "stream",
          "name": "stdout",
          "text": [
            "'a, b, c' 3개의 값을 입력하시오\n",
            "Enter the a: 5\n",
            "Enter the b: 2\n",
            "Enter the c: 4\n",
            "-8.0 7.6\n"
          ]
        }
      ]
    },
    {
      "cell_type": "code",
      "source": [
        "import math\n",
        "\n",
        "# 근의공식 구하기\n",
        "a = int(input(\"a의 값을 입력하세요: \"))\n",
        "b = int(input(\"b의 값을 입력하세요: \"))\n",
        "c = int(input(\"c의 값을 입력하세요: \"))\n",
        "\n",
        "x1 = ( (-b + (math.sqrt(math.pow(b,2) - 4 * a * c)))/2 * a)\n",
        "x2 = ( (-b - (math.sqrt(math.pow(b,2) - 4 * a * c)))/2 * a)\n",
        "\n",
        "print(\"x1 = \" , x1)\n",
        "print(\"x2 = \" , x2)"
      ],
      "metadata": {
        "colab": {
          "base_uri": "https://localhost:8080/"
        },
        "id": "r5GhvHs-g8qt",
        "outputId": "8506dd6b-a4b7-43d5-e5f9-d3a920d81b82"
      },
      "execution_count": null,
      "outputs": [
        {
          "output_type": "stream",
          "name": "stdout",
          "text": [
            "a의 값을 입력하세요: 5\n",
            "b의 값을 입력하세요: 2\n",
            "c의 값을 입력하세요: 0\n",
            "x1 =  0.0\n",
            "x2 =  -10.0\n"
          ]
        }
      ]
    },
    {
      "cell_type": "code",
      "source": [
        "total = 0\n",
        "counter = 1\n",
        "while counter <= 10:\n",
        "  grade = int(input (\"Enter grade: \"))\n",
        "  total = grade + total\n",
        "  counter = counter + 1\n",
        "average = total / 10\n",
        "print(average)"
      ],
      "metadata": {
        "colab": {
          "base_uri": "https://localhost:8080/"
        },
        "id": "lB6eMvzmSSBd",
        "outputId": "e0ed4dd1-e9db-48dd-f8ff-ba5f12935250"
      },
      "execution_count": null,
      "outputs": [
        {
          "output_type": "stream",
          "name": "stdout",
          "text": [
            "Enter grade: 0\n",
            "Enter grade: 1\n",
            "Enter grade: 2\n",
            "Enter grade: 3\n",
            "Enter grade: 4\n",
            "Enter grade: 5\n",
            "Enter grade: 6\n",
            "Enter grade: 7\n",
            "Enter grade: 8\n",
            "Enter grade: 9\n",
            "4.5\n"
          ]
        }
      ]
    },
    {
      "cell_type": "code",
      "source": [
        "print(\"3개의 값을 입력하시오\")\n",
        "x = int(input(\"Enter the x:1\"))\n",
        "y = int(input(\"Enter the y:2\"))\n",
        "z = int(input(\"Enter the z:3\"))\n",
        "x = x + 1\n",
        "y = y + 1\n",
        "z = y + 1\n",
        "print(\"변경된 값: \", x, y, z)"
      ],
      "metadata": {
        "colab": {
          "base_uri": "https://localhost:8080/"
        },
        "id": "SXNKNbi3UNlh",
        "outputId": "581f76fb-904c-4a55-f654-e0fa18ed77d8"
      },
      "execution_count": null,
      "outputs": [
        {
          "output_type": "stream",
          "name": "stdout",
          "text": [
            "3개의 값을 입력하시오\n",
            "Enter the x:1+1\n",
            "Enter the y:2+2\n",
            "Enter the z:3+3\n",
            "변경된 값:  2 3 4\n"
          ]
        }
      ]
    },
    {
      "cell_type": "code",
      "source": [
        "a = 10\n",
        "b = 8750\n",
        "c = a * b\n",
        "print(c)"
      ],
      "metadata": {
        "colab": {
          "base_uri": "https://localhost:8080/"
        },
        "id": "GCwMq9J1Wxcd",
        "outputId": "fe742a6c-1d33-4bfa-e93b-07b7a22b6a59"
      },
      "execution_count": null,
      "outputs": [
        {
          "output_type": "stream",
          "name": "stdout",
          "text": [
            "87500\n"
          ]
        }
      ]
    },
    {
      "cell_type": "code",
      "source": [
        "pay_rate = 8750\n",
        "hours_worked = int(input(\"일을 한 전체 시간입력하세요!: \"))\n",
        "monthly_pay = hours_worked * pay_rate\n",
        "print(monthly_pay)"
      ],
      "metadata": {
        "colab": {
          "base_uri": "https://localhost:8080/"
        },
        "id": "D1U3Rv89W8ot",
        "outputId": "77011cf8-f4c2-4723-ad94-0f2d871e659e"
      },
      "execution_count": null,
      "outputs": [
        {
          "output_type": "stream",
          "name": "stdout",
          "text": [
            "일을 한 전체 시간입력하세요!: 10\n",
            "87500\n"
          ]
        }
      ]
    },
    {
      "cell_type": "code",
      "source": [
        "won = 100000\n",
        "usd = won * 1130\n",
        "print(usd)"
      ],
      "metadata": {
        "colab": {
          "base_uri": "https://localhost:8080/"
        },
        "id": "axZj9RDtjSy3",
        "outputId": "b95f101a-cd53-4760-b5f6-14c59173ea85"
      },
      "execution_count": null,
      "outputs": [
        {
          "output_type": "stream",
          "name": "stdout",
          "text": [
            "113000000\n"
          ]
        }
      ]
    },
    {
      "cell_type": "code",
      "source": [
        "exchange_rate = int(input(\"현재 환율입력: \"))\n",
        "won = 100000\n",
        "usd = won * exchange_rate\n",
        "print(usd)"
      ],
      "metadata": {
        "colab": {
          "base_uri": "https://localhost:8080/"
        },
        "id": "4R2IwTrhjeob",
        "outputId": "a37a54a3-6bed-4357-cdca-20a178ac0647"
      },
      "execution_count": null,
      "outputs": [
        {
          "output_type": "stream",
          "name": "stdout",
          "text": [
            "현재 환율입력: 1200\n",
            "120000000\n"
          ]
        }
      ]
    },
    {
      "cell_type": "code",
      "source": [
        "fahrenheit = 100\n",
        "celsius = fahrenheit-32\n",
        "celsius = celsius * 5\n",
        "celsius = celsius/9\n",
        "print(celsius)"
      ],
      "metadata": {
        "colab": {
          "base_uri": "https://localhost:8080/"
        },
        "id": "XA_X9QXlj327",
        "outputId": "97d15088-d272-49b4-98c9-7c217f3b362c"
      },
      "execution_count": null,
      "outputs": [
        {
          "output_type": "stream",
          "name": "stdout",
          "text": [
            "37.77777777777778\n"
          ]
        }
      ]
    },
    {
      "cell_type": "code",
      "source": [
        "x=0\n",
        "y=0\n",
        "x = int(input(\"정수 x를 입력하시오: \"))\n",
        "y = int(input(\"정수 y를 입력하시오: \"))\n",
        "sum = x + y\n",
        "print(sum)"
      ],
      "metadata": {
        "colab": {
          "base_uri": "https://localhost:8080/"
        },
        "id": "2KZ1GcrQkBQQ",
        "outputId": "e62fc50c-436e-45a8-f2cc-13c4cc2f37a6"
      },
      "execution_count": null,
      "outputs": [
        {
          "output_type": "stream",
          "name": "stdout",
          "text": [
            "정수 x를 입력하시오: 1\n",
            "정수 y를 입력하시오: 2\n",
            "3\n"
          ]
        }
      ]
    },
    {
      "cell_type": "code",
      "source": [
        "price = int(input(\"상품의 가격을 입력하시오: \"))\n",
        "vat = price * 0.1\n",
        "print(vat)"
      ],
      "metadata": {
        "colab": {
          "base_uri": "https://localhost:8080/"
        },
        "id": "1wCD2LYakHAD",
        "outputId": "27e0e5b7-0cab-439c-a7be-10d67a3cba28"
      },
      "execution_count": null,
      "outputs": [
        {
          "output_type": "stream",
          "name": "stdout",
          "text": [
            "상품의 가격을 입력하시오: 10000\n",
            "1000.0\n"
          ]
        }
      ]
    },
    {
      "cell_type": "code",
      "source": [
        "age = int(input(\"현재 나이를 입력하시오.: \"))\n",
        "age = age + 10\n",
        "print(\"10년후면\", age, \" 세가 되시는 군요\")"
      ],
      "metadata": {
        "colab": {
          "base_uri": "https://localhost:8080/"
        },
        "id": "GDUJUXqzksDo",
        "outputId": "e9ed55a7-ab11-4f92-8f60-da93d853dc8e"
      },
      "execution_count": null,
      "outputs": [
        {
          "output_type": "stream",
          "name": "stdout",
          "text": [
            "현재 나이를 입력하시오.: 20\n",
            "10년후면 30  세가 되시는 군요\n"
          ]
        }
      ]
    },
    {
      "cell_type": "code",
      "source": [
        "print(\"########################\")\n",
        "print(\"# 배송료 계산 프로그램 #\")\n",
        "print(\"########################\")\n",
        "price= int(input(\"상품의 가격을 입력하세요: \"))\n",
        "if price > 2000:\n",
        "  shipping_cost = 0\n",
        "else:\n",
        "  shipping_cost = 3000\n",
        "print(shipping_cost)"
      ],
      "metadata": {
        "colab": {
          "base_uri": "https://localhost:8080/"
        },
        "id": "8JWwynaok1-s",
        "outputId": "a2aeb5f1-9beb-46ed-f022-e5b1844da6ac"
      },
      "execution_count": null,
      "outputs": [
        {
          "output_type": "stream",
          "name": "stdout",
          "text": [
            "########################\n",
            "# 배송료 계산 프로그램 #\n",
            "########################\n",
            "상품의 가격을 입력하세요: 1000\n",
            "3000\n"
          ]
        }
      ]
    },
    {
      "cell_type": "code",
      "source": [
        "print(\"########################\")\n",
        "print(\"# 합격 불합격 프로그램 #\")\n",
        "print(\"########################\")\n",
        "\n",
        "grade = int(input(\"성적을 입력하시오.: \"))\n",
        "if grade >= 60 :\n",
        "  print(\"합격\")\n",
        "else :\n",
        "  print(\"불합격\")"
      ],
      "metadata": {
        "colab": {
          "base_uri": "https://localhost:8080/"
        },
        "id": "4Z0ptHWZlM3i",
        "outputId": "17561619-a12f-46c0-b265-62c36d394336"
      },
      "execution_count": null,
      "outputs": [
        {
          "output_type": "stream",
          "name": "stdout",
          "text": [
            "########################\n",
            "# 합격 불합격 프로그램 #\n",
            "########################\n",
            "성적을 입력하시오.: 50\n",
            "불합격\n"
          ]
        }
      ]
    },
    {
      "cell_type": "code",
      "source": [
        "print(\"근무 시간을 입력하시오\")\n",
        "work_hour=int(input(\"근무시간 입력: \"))\n",
        "\n",
        "if work_hour > 72 : \n",
        "  print(\"초과근무 하셨습니다.\")\n",
        "else: \n",
        "  print(\"정상근무하셨습니다.\")"
      ],
      "metadata": {
        "colab": {
          "base_uri": "https://localhost:8080/"
        },
        "id": "PvW-Su17lm7v",
        "outputId": "3200c3ea-167e-4ad5-a74d-f5b4b2545463"
      },
      "execution_count": null,
      "outputs": [
        {
          "output_type": "stream",
          "name": "stdout",
          "text": [
            "근무 시간을 입력하시오\n",
            "근무시간 입력: 60\n",
            "정상근무하셨습니다.\n"
          ]
        }
      ]
    },
    {
      "cell_type": "code",
      "source": [
        "print(\"########################\") \n",
        "print(\"# 짝수와 홀수 판별 앱 #\") \n",
        "print(\"########################\")\n",
        "\n",
        "x = int(input(\"x값 정수를 입력하시오: \"))\n",
        "if(x % 2)!= 0:\n",
        "   print(\"홀수입니다.\")\n",
        "else:\n",
        "   print(\"짝수입니다.\")"
      ],
      "metadata": {
        "colab": {
          "base_uri": "https://localhost:8080/"
        },
        "id": "stgpAN-Smd-q",
        "outputId": "460cee21-5d17-4c0e-f459-ca40b1f34d8b"
      },
      "execution_count": null,
      "outputs": [
        {
          "output_type": "stream",
          "name": "stdout",
          "text": [
            "########################\n",
            "# 짝수와 홀수 판별 앱 #\n",
            "########################\n",
            "x값 정수를 입력하시오: 2\n",
            "짝수입니다.\n"
          ]
        }
      ]
    },
    {
      "cell_type": "code",
      "source": [
        "print(\"정수를 입력하시오.\")\n",
        "x= int(input(\"정수값 x를 입력하시오.: \"))\n",
        "y= int(input(\"정수값 y를 입력하시오.: \"))\n",
        "if x > y :\n",
        "  print(x)\n",
        "else:\n",
        "  print(y)"
      ],
      "metadata": {
        "colab": {
          "base_uri": "https://localhost:8080/"
        },
        "id": "GCah2sK_nEQb",
        "outputId": "6a3a163a-2893-4bd1-89b0-5201c17d2200"
      },
      "execution_count": null,
      "outputs": [
        {
          "output_type": "stream",
          "name": "stdout",
          "text": [
            "정수를 입력하시오.\n",
            "정수값 x를 입력하시오.: 1\n",
            "정수값 y를 입력하시오.: 2\n",
            "2\n"
          ]
        }
      ]
    },
    {
      "cell_type": "code",
      "source": [
        "print(\"########################\")\n",
        "print(\"# 이름, 나이, 답변 앱 #\")\n",
        "print(\"########################\")\n",
        "\n",
        "yu_name = str(input(\"이름: \"))\n",
        "yu_age = int(input(\"나이: \"))\n",
        "\n",
        "if yu_age <= 25 :\n",
        "  print(\"와우!!! 프로그래밍을 완벽하게 배울수 있는 나이입니다.!\")\n",
        "else:\n",
        "  print(\"포기하기에는 아직 늦지 않았습니다.\")\n",
        "print(\"\\n\")"
      ],
      "metadata": {
        "colab": {
          "base_uri": "https://localhost:8080/"
        },
        "id": "ZTetrQtLnSgX",
        "outputId": "eaf0223c-423a-4a7e-e1af-d1db4c1cd83b"
      },
      "execution_count": null,
      "outputs": [
        {
          "output_type": "stream",
          "name": "stdout",
          "text": [
            "########################\n",
            "# 이름, 나이, 답변 앱 #\n",
            "########################\n",
            "이름: 문서우\n",
            "나이: 20\n",
            "와우!!! 프로그래밍을 완벽하게 배울수 있는 나이입니다.!\n",
            "\n",
            "\n"
          ]
        }
      ]
    },
    {
      "cell_type": "code",
      "source": [
        "price = int(input(\"상품의 가격을 입력하세요.: \"))\n",
        "\n",
        "if price > 100000:\n",
        "  shipping_cost = 0\n",
        "else:\n",
        "  if price > 2000:\n",
        "      shipping_cost = 3000\n",
        "  else:\n",
        "      shipping_cost = 5000\n",
        "      \n",
        "print(\"배송료는\", shipping_cost, \"입니다.\")"
      ],
      "metadata": {
        "colab": {
          "base_uri": "https://localhost:8080/"
        },
        "id": "HuywNJLxnhac",
        "outputId": "4c436377-cfa2-4bfa-bbf8-80b1149c3cc6"
      },
      "execution_count": null,
      "outputs": [
        {
          "output_type": "stream",
          "name": "stdout",
          "text": [
            "상품의 가격을 입력하세요.: 1000\n",
            "배송료는 5000 입니다.\n"
          ]
        }
      ]
    }
  ]
}